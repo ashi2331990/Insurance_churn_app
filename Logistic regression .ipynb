{
 "cells": [
  {
   "cell_type": "raw",
   "metadata": {},
   "source": [
    "Assumptions \n",
    "The outcome is a binary or dichotomous variable like yes vs no, positive vs negative, 1 vs 0.\n",
    "There is a linear relationship between the logit of the outcome and each predictor variables. Recall that the logit function is logit(p) = log(p/(1-p)), where p is the probabilities of the outcome (see Chapter @ref(logistic-regression)).\n",
    "There is no influential values (extreme values or outliers) in the continuous predictors\n",
    "There is no high intercorrelations (i.e. multicollinearity) among the predictors.\n",
    "To improve the accuracy of your model, you should make sure that these assumptions hold true for your data. In the following sections, we’ll describe how to diagnostic potential problems in the data."
   ]
  },
  {
   "cell_type": "code",
   "execution_count": 1,
   "metadata": {},
   "outputs": [],
   "source": [
    "import numpy as np \n",
    "import pandas as pd \n",
    "import matplotlib.pyplot as plt \n",
    "import seaborn as sns \n",
    "import plotly\n",
    "import plotly.express as px\n",
    "import plotly.graph_objects as go\n",
    "%matplotlib inline "
   ]
  },
  {
   "cell_type": "code",
   "execution_count": 2,
   "metadata": {},
   "outputs": [],
   "source": [
    "df=pd.read_csv(r\"C:\\Users\\sarkar\\Desktop\\final\\all about projects\\churn prediction\\insurance churn prediction\\data\\Insurance_Churn_ParticipantsData\\Train.csv\")"
   ]
  },
  {
   "cell_type": "code",
   "execution_count": 3,
   "metadata": {},
   "outputs": [],
   "source": [
    "dffeature=df.copy()"
   ]
  },
  {
   "cell_type": "code",
   "execution_count": 4,
   "metadata": {},
   "outputs": [],
   "source": [
    "dff=dffeature.drop(['feature_7','feature_10'],axis=1)"
   ]
  },
  {
   "cell_type": "code",
   "execution_count": 5,
   "metadata": {},
   "outputs": [
    {
     "data": {
      "text/plain": [
       "Index(['feature_0', 'feature_1', 'feature_2', 'feature_3', 'feature_4',\n",
       "       'feature_5', 'feature_6', 'feature_8', 'feature_9', 'feature_11',\n",
       "       'feature_12', 'feature_13', 'feature_14', 'feature_15', 'labels'],\n",
       "      dtype='object')"
      ]
     },
     "execution_count": 5,
     "metadata": {},
     "output_type": "execute_result"
    }
   ],
   "source": [
    "dff.columns"
   ]
  },
  {
   "cell_type": "markdown",
   "metadata": {},
   "source": [
    "# Vif number (Multicollinearity) "
   ]
  },
  {
   "cell_type": "code",
   "execution_count": 6,
   "metadata": {},
   "outputs": [
    {
     "name": "stdout",
     "output_type": "stream",
     "text": [
      "const         43.836158\n",
      "feature_0      1.281665\n",
      "feature_1      1.031989\n",
      "feature_2      1.040622\n",
      "feature_3      1.198913\n",
      "feature_4      1.060339\n",
      "feature_5      3.862598\n",
      "feature_6      1.575020\n",
      "feature_7      1.047895\n",
      "feature_8      1.223393\n",
      "feature_9      1.067219\n",
      "feature_10     1.011993\n",
      "feature_11     1.207391\n",
      "feature_12     1.023943\n",
      "feature_13     1.334837\n",
      "feature_14     1.251574\n",
      "feature_15     4.212837\n",
      "labels         1.269477\n",
      "dtype: float64\n"
     ]
    }
   ],
   "source": [
    "import statsmodels.api as sm\n",
    "from statsmodels.stats.outliers_influence import variance_inflation_factor\n",
    "from statsmodels.tools.tools import add_constant\n",
    "def get_VIF(dataFrame , target):\n",
    "    X = add_constant(dataFrame.loc[:, dataFrame.columns != target])\n",
    "    seriesObject = pd.Series([variance_inflation_factor(X.values,i) for i in range(X.shape[1])] , index=X.columns,)\n",
    "    return seriesObject\n",
    "\n",
    "target = 'Y'\n",
    "print(get_VIF(dffeature,target))"
   ]
  },
  {
   "cell_type": "markdown",
   "metadata": {},
   "source": [
    "# As the model is weak removing the values above 2.5 \n"
   ]
  },
  {
   "cell_type": "code",
   "execution_count": 7,
   "metadata": {},
   "outputs": [],
   "source": [
    "final_features=dff.drop(['feature_5','feature_15'],axis=1)"
   ]
  },
  {
   "cell_type": "code",
   "execution_count": 8,
   "metadata": {},
   "outputs": [
    {
     "data": {
      "text/plain": [
       "Index(['feature_0', 'feature_1', 'feature_2', 'feature_3', 'feature_4',\n",
       "       'feature_6', 'feature_8', 'feature_9', 'feature_11', 'feature_12',\n",
       "       'feature_13', 'feature_14', 'labels'],\n",
       "      dtype='object')"
      ]
     },
     "execution_count": 8,
     "metadata": {},
     "output_type": "execute_result"
    }
   ],
   "source": [
    "final_features.columns"
   ]
  },
  {
   "cell_type": "markdown",
   "metadata": {},
   "source": [
    "# Removing Outliers "
   ]
  },
  {
   "cell_type": "code",
   "execution_count": 9,
   "metadata": {},
   "outputs": [],
   "source": [
    "#feature_0,feature_1,feature_3"
   ]
  },
  {
   "cell_type": "code",
   "execution_count": 10,
   "metadata": {},
   "outputs": [
    {
     "data": {
      "text/html": [
       "<div>\n",
       "<style scoped>\n",
       "    .dataframe tbody tr th:only-of-type {\n",
       "        vertical-align: middle;\n",
       "    }\n",
       "\n",
       "    .dataframe tbody tr th {\n",
       "        vertical-align: top;\n",
       "    }\n",
       "\n",
       "    .dataframe thead th {\n",
       "        text-align: right;\n",
       "    }\n",
       "</style>\n",
       "<table border=\"1\" class=\"dataframe\">\n",
       "  <thead>\n",
       "    <tr style=\"text-align: right;\">\n",
       "      <th></th>\n",
       "      <th>feature_0</th>\n",
       "      <th>feature_1</th>\n",
       "      <th>feature_2</th>\n",
       "      <th>feature_3</th>\n",
       "      <th>feature_4</th>\n",
       "      <th>feature_6</th>\n",
       "      <th>feature_8</th>\n",
       "      <th>feature_9</th>\n",
       "      <th>feature_11</th>\n",
       "      <th>feature_12</th>\n",
       "      <th>feature_13</th>\n",
       "      <th>feature_14</th>\n",
       "      <th>labels</th>\n",
       "    </tr>\n",
       "  </thead>\n",
       "  <tbody>\n",
       "    <tr>\n",
       "      <th>52</th>\n",
       "      <td>3.396271</td>\n",
       "      <td>0.437059</td>\n",
       "      <td>1.104681</td>\n",
       "      <td>-0.680179</td>\n",
       "      <td>-0.246560</td>\n",
       "      <td>4.957714</td>\n",
       "      <td>0</td>\n",
       "      <td>0</td>\n",
       "      <td>0</td>\n",
       "      <td>0</td>\n",
       "      <td>0</td>\n",
       "      <td>10</td>\n",
       "      <td>0</td>\n",
       "    </tr>\n",
       "    <tr>\n",
       "      <th>102</th>\n",
       "      <td>3.490445</td>\n",
       "      <td>-0.240176</td>\n",
       "      <td>-0.577529</td>\n",
       "      <td>-0.633582</td>\n",
       "      <td>-0.569351</td>\n",
       "      <td>-0.251940</td>\n",
       "      <td>0</td>\n",
       "      <td>1</td>\n",
       "      <td>0</td>\n",
       "      <td>0</td>\n",
       "      <td>1</td>\n",
       "      <td>1</td>\n",
       "      <td>0</td>\n",
       "    </tr>\n",
       "    <tr>\n",
       "      <th>241</th>\n",
       "      <td>3.019575</td>\n",
       "      <td>-0.185984</td>\n",
       "      <td>0.864365</td>\n",
       "      <td>2.445732</td>\n",
       "      <td>-0.569351</td>\n",
       "      <td>1.050473</td>\n",
       "      <td>1</td>\n",
       "      <td>0</td>\n",
       "      <td>0</td>\n",
       "      <td>0</td>\n",
       "      <td>0</td>\n",
       "      <td>0</td>\n",
       "      <td>1</td>\n",
       "    </tr>\n",
       "    <tr>\n",
       "      <th>526</th>\n",
       "      <td>3.113749</td>\n",
       "      <td>0.398304</td>\n",
       "      <td>1.104681</td>\n",
       "      <td>-0.334581</td>\n",
       "      <td>-0.246560</td>\n",
       "      <td>0.182198</td>\n",
       "      <td>1</td>\n",
       "      <td>2</td>\n",
       "      <td>0</td>\n",
       "      <td>0</td>\n",
       "      <td>0</td>\n",
       "      <td>4</td>\n",
       "      <td>0</td>\n",
       "    </tr>\n",
       "    <tr>\n",
       "      <th>584</th>\n",
       "      <td>3.207923</td>\n",
       "      <td>0.528036</td>\n",
       "      <td>-0.457371</td>\n",
       "      <td>1.486601</td>\n",
       "      <td>-0.569351</td>\n",
       "      <td>-0.251940</td>\n",
       "      <td>1</td>\n",
       "      <td>0</td>\n",
       "      <td>0</td>\n",
       "      <td>0</td>\n",
       "      <td>0</td>\n",
       "      <td>1</td>\n",
       "      <td>1</td>\n",
       "    </tr>\n",
       "    <tr>\n",
       "      <th>...</th>\n",
       "      <td>...</td>\n",
       "      <td>...</td>\n",
       "      <td>...</td>\n",
       "      <td>...</td>\n",
       "      <td>...</td>\n",
       "      <td>...</td>\n",
       "      <td>...</td>\n",
       "      <td>...</td>\n",
       "      <td>...</td>\n",
       "      <td>...</td>\n",
       "      <td>...</td>\n",
       "      <td>...</td>\n",
       "      <td>...</td>\n",
       "    </tr>\n",
       "    <tr>\n",
       "      <th>32700</th>\n",
       "      <td>4.997228</td>\n",
       "      <td>-0.042129</td>\n",
       "      <td>-1.538792</td>\n",
       "      <td>-0.179257</td>\n",
       "      <td>-0.569351</td>\n",
       "      <td>-0.251940</td>\n",
       "      <td>0</td>\n",
       "      <td>1</td>\n",
       "      <td>0</td>\n",
       "      <td>0</td>\n",
       "      <td>0</td>\n",
       "      <td>7</td>\n",
       "      <td>0</td>\n",
       "    </tr>\n",
       "    <tr>\n",
       "      <th>33153</th>\n",
       "      <td>3.490445</td>\n",
       "      <td>4.217687</td>\n",
       "      <td>1.224839</td>\n",
       "      <td>-0.420010</td>\n",
       "      <td>-0.569351</td>\n",
       "      <td>0.182198</td>\n",
       "      <td>1</td>\n",
       "      <td>0</td>\n",
       "      <td>0</td>\n",
       "      <td>0</td>\n",
       "      <td>0</td>\n",
       "      <td>10</td>\n",
       "      <td>0</td>\n",
       "    </tr>\n",
       "    <tr>\n",
       "      <th>33157</th>\n",
       "      <td>3.396271</td>\n",
       "      <td>0.282694</td>\n",
       "      <td>-0.697687</td>\n",
       "      <td>0.414860</td>\n",
       "      <td>-0.246560</td>\n",
       "      <td>0.182198</td>\n",
       "      <td>1</td>\n",
       "      <td>0</td>\n",
       "      <td>0</td>\n",
       "      <td>0</td>\n",
       "      <td>1</td>\n",
       "      <td>1</td>\n",
       "      <td>0</td>\n",
       "    </tr>\n",
       "    <tr>\n",
       "      <th>33540</th>\n",
       "      <td>3.207923</td>\n",
       "      <td>11.746428</td>\n",
       "      <td>-0.577529</td>\n",
       "      <td>0.958497</td>\n",
       "      <td>-0.569351</td>\n",
       "      <td>-0.251940</td>\n",
       "      <td>0</td>\n",
       "      <td>0</td>\n",
       "      <td>0</td>\n",
       "      <td>0</td>\n",
       "      <td>0</td>\n",
       "      <td>3</td>\n",
       "      <td>0</td>\n",
       "    </tr>\n",
       "    <tr>\n",
       "      <th>33836</th>\n",
       "      <td>3.490445</td>\n",
       "      <td>0.137197</td>\n",
       "      <td>1.104681</td>\n",
       "      <td>-0.183140</td>\n",
       "      <td>-0.246560</td>\n",
       "      <td>2.787025</td>\n",
       "      <td>1</td>\n",
       "      <td>3</td>\n",
       "      <td>1</td>\n",
       "      <td>0</td>\n",
       "      <td>0</td>\n",
       "      <td>10</td>\n",
       "      <td>1</td>\n",
       "    </tr>\n",
       "  </tbody>\n",
       "</table>\n",
       "<p>286 rows × 13 columns</p>\n",
       "</div>"
      ],
      "text/plain": [
       "       feature_0  feature_1  feature_2  feature_3  feature_4  feature_6  \\\n",
       "52      3.396271   0.437059   1.104681  -0.680179  -0.246560   4.957714   \n",
       "102     3.490445  -0.240176  -0.577529  -0.633582  -0.569351  -0.251940   \n",
       "241     3.019575  -0.185984   0.864365   2.445732  -0.569351   1.050473   \n",
       "526     3.113749   0.398304   1.104681  -0.334581  -0.246560   0.182198   \n",
       "584     3.207923   0.528036  -0.457371   1.486601  -0.569351  -0.251940   \n",
       "...          ...        ...        ...        ...        ...        ...   \n",
       "32700   4.997228  -0.042129  -1.538792  -0.179257  -0.569351  -0.251940   \n",
       "33153   3.490445   4.217687   1.224839  -0.420010  -0.569351   0.182198   \n",
       "33157   3.396271   0.282694  -0.697687   0.414860  -0.246560   0.182198   \n",
       "33540   3.207923  11.746428  -0.577529   0.958497  -0.569351  -0.251940   \n",
       "33836   3.490445   0.137197   1.104681  -0.183140  -0.246560   2.787025   \n",
       "\n",
       "       feature_8  feature_9  feature_11  feature_12  feature_13  feature_14  \\\n",
       "52             0          0           0           0           0          10   \n",
       "102            0          1           0           0           1           1   \n",
       "241            1          0           0           0           0           0   \n",
       "526            1          2           0           0           0           4   \n",
       "584            1          0           0           0           0           1   \n",
       "...          ...        ...         ...         ...         ...         ...   \n",
       "32700          0          1           0           0           0           7   \n",
       "33153          1          0           0           0           0          10   \n",
       "33157          1          0           0           0           1           1   \n",
       "33540          0          0           0           0           0           3   \n",
       "33836          1          3           1           0           0          10   \n",
       "\n",
       "       labels  \n",
       "52          0  \n",
       "102         0  \n",
       "241         1  \n",
       "526         0  \n",
       "584         1  \n",
       "...       ...  \n",
       "32700       0  \n",
       "33153       0  \n",
       "33157       0  \n",
       "33540       0  \n",
       "33836       1  \n",
       "\n",
       "[286 rows x 13 columns]"
      ]
     },
     "execution_count": 10,
     "metadata": {},
     "output_type": "execute_result"
    }
   ],
   "source": [
    "#feature_0\n",
    "upper_limit=final_features.feature_0.mean()+3*final_features.feature_0.std()\n",
    "lower_limit=final_features.feature_0.mean()-3*final_features.feature_0.std()\n",
    "out=final_features[(final_features.feature_0>upper_limit)|(final_features.feature_0<lower_limit) ]\n",
    "out"
   ]
  },
  {
   "cell_type": "code",
   "execution_count": 11,
   "metadata": {},
   "outputs": [],
   "source": [
    "final_features.drop(index=out.index,axis=0,inplace=True)"
   ]
  },
  {
   "cell_type": "code",
   "execution_count": 26,
   "metadata": {},
   "outputs": [
    {
     "data": {
      "image/png": "[encoded data removed]",
      "text/plain": [
       "<Figure size 720x216 with 2 Axes>"
      ]
     },
     "metadata": {
      "needs_background": "light"
     },
     "output_type": "display_data"
    }
   ],
   "source": [
    "fig = plt.figure(figsize=(10,3))\n",
    "\n",
    "plt.subplot(2, 2, 1)\n",
    "sns.boxplot(df.feature_0)\n",
    "plt.title(\"Before\")\n",
    "\n",
    "plt.subplot(2, 2, 2)\n",
    "sns.boxplot(final_features.feature_0)\n",
    "plt.title(\"After\")\n",
    "\n",
    "\n",
    "plt.show()"
   ]
  },
  {
   "cell_type": "code",
   "execution_count": 14,
   "metadata": {},
   "outputs": [],
   "source": [
    "#feature_1"
   ]
  },
  {
   "cell_type": "code",
   "execution_count": 16,
   "metadata": {},
   "outputs": [],
   "source": [
    "upper_limit=final_features.feature_1.mean()+3*final_features.feature_1.std()\n",
    "lower_limit=final_features.feature_1.mean()-3*final_features.feature_1.std()\n",
    "out=final_features[(final_features.feature_1>upper_limit)|(final_features.feature_1<lower_limit) ]\n"
   ]
  },
  {
   "cell_type": "code",
   "execution_count": 17,
   "metadata": {},
   "outputs": [],
   "source": [
    "final_features.drop(index=out.index,axis=0,inplace=True)"
   ]
  },
  {
   "cell_type": "code",
   "execution_count": 25,
   "metadata": {},
   "outputs": [
    {
     "data": {
      "image/png": "[encoded data removed]",
      "text/plain": [
       "<Figure size 720x216 with 2 Axes>"
      ]
     },
     "metadata": {
      "needs_background": "light"
     },
     "output_type": "display_data"
    }
   ],
   "source": [
    "fig = plt.figure(figsize=(10,3))\n",
    "\n",
    "plt.subplot(2, 2, 1)\n",
    "sns.boxplot(df.feature_1)\n",
    "plt.title(\"Before\")\n",
    "\n",
    "plt.subplot(2, 2, 2)\n",
    "sns.boxplot(final_features.feature_1)\n",
    "plt.title(\"After\")\n",
    "\n",
    "\n",
    "plt.show()"
   ]
  },
  {
   "cell_type": "code",
   "execution_count": 20,
   "metadata": {},
   "outputs": [],
   "source": [
    "#feature_3\n",
    "upper_limit=final_features.feature_3.mean()+3*final_features.feature_3.std()\n",
    "lower_limit=final_features.feature_3.mean()-3*final_features.feature_3.std()\n",
    "out=final_features[(final_features.feature_3>upper_limit)|(final_features.feature_3<lower_limit) ]\n",
    "final_features.drop(index=out.index,axis=0,inplace=True)"
   ]
  },
  {
   "cell_type": "code",
   "execution_count": 24,
   "metadata": {},
   "outputs": [
    {
     "data": {
      "image/png": "[encoded data removed]",
      "text/plain": [
       "<Figure size 720x216 with 2 Axes>"
      ]
     },
     "metadata": {
      "needs_background": "light"
     },
     "output_type": "display_data"
    }
   ],
   "source": [
    "fig = plt.figure(figsize=(10,3))\n",
    "\n",
    "plt.subplot(2, 2, 1)\n",
    "sns.boxplot(df.feature_3)\n",
    "plt.title(\"Before\")\n",
    "\n",
    "plt.subplot(2, 2, 2)\n",
    "sns.boxplot(final_features.feature_3)\n",
    "plt.title(\"After\")\n",
    "\n",
    "\n",
    "plt.show()\n"
   ]
  },
  {
   "cell_type": "markdown",
   "metadata": {},
   "source": [
    "# ---------------------------------------------------------------------------------------------------------------"
   ]
  },
  {
   "cell_type": "code",
   "execution_count": 27,
   "metadata": {},
   "outputs": [],
   "source": [
    "from sklearn.model_selection import train_test_split\n"
   ]
  },
  {
   "cell_type": "code",
   "execution_count": 29,
   "metadata": {},
   "outputs": [],
   "source": [
    "X=final_features.drop(\"labels\",axis=1)\n",
    "y=final_features.labels"
   ]
  },
  {
   "cell_type": "code",
   "execution_count": 30,
   "metadata": {},
   "outputs": [],
   "source": [
    "X_train, X_test, y_train, y_test = train_test_split(X, y, test_size=0.33, random_state=42)"
   ]
  },
  {
   "cell_type": "markdown",
   "metadata": {},
   "source": [
    "# Fitting model "
   ]
  },
  {
   "cell_type": "code",
   "execution_count": 31,
   "metadata": {},
   "outputs": [],
   "source": [
    "from sklearn.linear_model import LogisticRegression"
   ]
  },
  {
   "cell_type": "code",
   "execution_count": 34,
   "metadata": {},
   "outputs": [],
   "source": [
    "model1=LogisticRegression()"
   ]
  },
  {
   "cell_type": "code",
   "execution_count": 35,
   "metadata": {},
   "outputs": [
    {
     "data": {
      "text/plain": [
       "LogisticRegression()"
      ]
     },
     "execution_count": 35,
     "metadata": {},
     "output_type": "execute_result"
    }
   ],
   "source": [
    "model1.fit(X_train,y_train)"
   ]
  },
  {
   "cell_type": "code",
   "execution_count": 40,
   "metadata": {},
   "outputs": [],
   "source": [
    "y_pred=model1.predict(X_train)"
   ]
  },
  {
   "cell_type": "markdown",
   "metadata": {},
   "source": [
    "# Evaluation "
   ]
  },
  {
   "cell_type": "code",
   "execution_count": 38,
   "metadata": {},
   "outputs": [],
   "source": [
    "from sklearn.metrics import accuracy_score,confusion_matrix\n",
    "from sklearn.metrics import precision_score, recall_score\n",
    "from sklearn.metrics import roc_auc_score"
   ]
  },
  {
   "cell_type": "code",
   "execution_count": 39,
   "metadata": {},
   "outputs": [],
   "source": [
    "def performa(y,y_pred):\n",
    "    confusion=confusion_matrix(y, y_pred)\n",
    "    accuracy=accuracy_score(y, y_pred)\n",
    "    precision=precision_score(y, y_pred)\n",
    "    recall=recall_score(y, y_pred)\n",
    "    ROC_AUC=roc_auc_score(y, y_pred)\n",
    "    print(\"confusion_matrix\\n\",confusion)\n",
    "    print(\"accuracy: \",accuracy)\n",
    "    print(\"precision: \",precision)\n",
    "    print(\"recall: \",recall)\n",
    "    print(\"ROC_AUC: \",ROC_AUC)"
   ]
  },
  {
   "cell_type": "markdown",
   "metadata": {},
   "source": [
    "# Model score Train "
   ]
  },
  {
   "cell_type": "code",
   "execution_count": 41,
   "metadata": {},
   "outputs": [
    {
     "name": "stdout",
     "output_type": "stream",
     "text": [
      "confusion_matrix\n",
      " [[19046   393]\n",
      " [ 1805   441]]\n",
      "accuracy:  0.8986396126354623\n",
      "precision:  0.5287769784172662\n",
      "recall:  0.19634906500445237\n",
      "ROC_AUC:  0.588065987824002\n"
     ]
    }
   ],
   "source": [
    "performa(y_train,y_pred)"
   ]
  },
  {
   "cell_type": "markdown",
   "metadata": {},
   "source": [
    "# Test "
   ]
  },
  {
   "cell_type": "code",
   "execution_count": 42,
   "metadata": {},
   "outputs": [],
   "source": [
    "ytest_pred=model1.predict(X_test)"
   ]
  },
  {
   "cell_type": "code",
   "execution_count": 44,
   "metadata": {},
   "outputs": [
    {
     "name": "stdout",
     "output_type": "stream",
     "text": [
      "confusion_matrix\n",
      " [[9420  170]\n",
      " [ 872  220]]\n",
      "accuracy:  0.9024527242089496\n",
      "precision:  0.5641025641025641\n",
      "recall:  0.20146520146520147\n",
      "ROC_AUC:  0.5918692013582525\n"
     ]
    }
   ],
   "source": [
    "performa(y_test,ytest_pred)"
   ]
  },
  {
   "cell_type": "markdown",
   "metadata": {},
   "source": [
    "# Cross validation "
   ]
  },
  {
   "cell_type": "code",
   "execution_count": 45,
   "metadata": {},
   "outputs": [],
   "source": [
    "from sklearn.model_selection import cross_val_score"
   ]
  },
  {
   "cell_type": "code",
   "execution_count": 48,
   "metadata": {},
   "outputs": [
    {
     "data": {
      "text/plain": [
       "0.8986857274613789"
      ]
     },
     "execution_count": 48,
     "metadata": {},
     "output_type": "execute_result"
    }
   ],
   "source": [
    "cross_val_score(LogisticRegression(solver='liblinear',multi_class='ovr'), X_train, y_train,cv=5).mean()"
   ]
  },
  {
   "cell_type": "code",
   "execution_count": 54,
   "metadata": {},
   "outputs": [
    {
     "data": {
      "text/plain": [
       "0.901984475418829"
      ]
     },
     "execution_count": 54,
     "metadata": {},
     "output_type": "execute_result"
    }
   ],
   "source": [
    "cross_val_score(LogisticRegression(solver='liblinear',multi_class='ovr'), X_test, y_test,cv=5).mean()"
   ]
  },
  {
   "cell_type": "code",
   "execution_count": 55,
   "metadata": {},
   "outputs": [],
   "source": [
    "accuracy=[0.9024527242089496,0.8986396126354623]\n",
    "precision=[0.5641025641025641,0.5287769784172662]\n",
    "recall=[0.20146520146520147,0.19634906500445237]\n",
    "ROC=[0.5918692013582525,0.588065987824002]\n",
    "cross_val=[0.901984475418829,0.8986857274613789]\n",
    "df_final_performa=pd.DataFrame({\"accuracy\":accuracy,\n",
    "                               \"precision\":precision,\n",
    "                               \"recall\":recall,\n",
    "                               \"ROC\":ROC,\n",
    "                               \"cross_val\":cross_val},index={\"test\",\"train\"})"
   ]
  },
  {
   "cell_type": "code",
   "execution_count": 56,
   "metadata": {},
   "outputs": [
    {
     "data": {
      "text/html": [
       "<div>\n",
       "<style scoped>\n",
       "    .dataframe tbody tr th:only-of-type {\n",
       "        vertical-align: middle;\n",
       "    }\n",
       "\n",
       "    .dataframe tbody tr th {\n",
       "        vertical-align: top;\n",
       "    }\n",
       "\n",
       "    .dataframe thead th {\n",
       "        text-align: right;\n",
       "    }\n",
       "</style>\n",
       "<table border=\"1\" class=\"dataframe\">\n",
       "  <thead>\n",
       "    <tr style=\"text-align: right;\">\n",
       "      <th></th>\n",
       "      <th>accuracy</th>\n",
       "      <th>precision</th>\n",
       "      <th>recall</th>\n",
       "      <th>ROC</th>\n",
       "      <th>cross_val</th>\n",
       "    </tr>\n",
       "  </thead>\n",
       "  <tbody>\n",
       "    <tr>\n",
       "      <th>test</th>\n",
       "      <td>0.902453</td>\n",
       "      <td>0.564103</td>\n",
       "      <td>0.201465</td>\n",
       "      <td>0.591869</td>\n",
       "      <td>0.901984</td>\n",
       "    </tr>\n",
       "    <tr>\n",
       "      <th>train</th>\n",
       "      <td>0.898640</td>\n",
       "      <td>0.528777</td>\n",
       "      <td>0.196349</td>\n",
       "      <td>0.588066</td>\n",
       "      <td>0.898686</td>\n",
       "    </tr>\n",
       "  </tbody>\n",
       "</table>\n",
       "</div>"
      ],
      "text/plain": [
       "       accuracy  precision    recall       ROC  cross_val\n",
       "test   0.902453   0.564103  0.201465  0.591869   0.901984\n",
       "train  0.898640   0.528777  0.196349  0.588066   0.898686"
      ]
     },
     "execution_count": 56,
     "metadata": {},
     "output_type": "execute_result"
    }
   ],
   "source": [
    "df_final_performa"
   ]
  },
  {
   "cell_type": "code",
   "execution_count": null,
   "metadata": {},
   "outputs": [],
   "source": []
  }
 ],
 "metadata": {
  "kernelspec": {
   "display_name": "Python 3",
   "language": "python",
   "name": "python3"
  },
  "language_info": {
   "codemirror_mode": {
    "name": "ipython",
    "version": 3
   },
   "file_extension": ".py",
   "mimetype": "text/x-python",
   "name": "python",
   "nbconvert_exporter": "python",
   "pygments_lexer": "ipython3",
   "version": "3.8.3"
  }
 },
 "nbformat": 4,
 "nbformat_minor": 4
}
